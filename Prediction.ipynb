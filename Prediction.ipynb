{
 "cells": [
  {
   "cell_type": "code",
   "execution_count": 2,
   "id": "85c95fc3-0f31-49d2-912e-4c5966849c7e",
   "metadata": {},
   "outputs": [],
   "source": [
    "import numpy as np # linear algebra\n",
    "import pandas as pd # data processing, CSV file I/O "
   ]
  },
  {
   "cell_type": "code",
   "execution_count": 3,
   "id": "ebeda011-34aa-4ceb-81fa-42090b992a0a",
   "metadata": {},
   "outputs": [],
   "source": [
    "path = \"C:\\\\Users\\\\vinee\\\\OneDrive\\\\Documents\\\\UC Classes\\\\Personal Homework\""
   ]
  },
  {
   "cell_type": "code",
   "execution_count": 4,
   "id": "cc8348c0-9dc6-4beb-933f-44dc426cfa9f",
   "metadata": {},
   "outputs": [],
   "source": [
    "import pickle\n",
    "import pandas as pd\n",
    "import json\n",
    "\n",
    "def predict_mpg(config):\n",
    "    ##loading the model from the saved file\n",
    "    pkl_filename = \"model.pkl\"\n",
    "    with open(pkl_filename, 'rb') as f_in:\n",
    "        model = pickle.load(f_in)\n",
    "\n",
    "    if type(config) == dict:\n",
    "        df = pd.DataFrame(config)\n",
    "    else:\n",
    "        df = config\n",
    "    \n",
    "    y_pred = model.predict(df)\n",
    "    \n",
    "    if y_pred == 0:\n",
    "        return 'Extremely Weak'\n",
    "    elif y_pred == 1:\n",
    "        return 'Weak'\n",
    "    elif y_pred == 2:\n",
    "        return 'Normal'\n",
    "    elif y_pred == 3:\n",
    "        return 'Overweight'\n",
    "    elif y_pred == 4:\n",
    "        return 'Obesity'\n",
    "    elif y_pred == 5:\n",
    "        return 'Extreme Obesity'"
   ]
  }
 ],
 "metadata": {
  "kernelspec": {
   "display_name": "Python 3 (ipykernel)",
   "language": "python",
   "name": "python3"
  },
  "language_info": {
   "codemirror_mode": {
    "name": "ipython",
    "version": 3
   },
   "file_extension": ".py",
   "mimetype": "text/x-python",
   "name": "python",
   "nbconvert_exporter": "python",
   "pygments_lexer": "ipython3",
   "version": "3.12.5"
  }
 },
 "nbformat": 4,
 "nbformat_minor": 5
}
