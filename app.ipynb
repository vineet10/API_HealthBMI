{
 "cells": [
  {
   "cell_type": "code",
   "execution_count": 1,
   "id": "3d9aca64-7fbd-4b8a-b2ab-5d0360d22c3e",
   "metadata": {},
   "outputs": [],
   "source": [
    "import numpy as np # linear algebra\n",
    "import pandas as pd # data processing, CSV file I/O "
   ]
  },
  {
   "cell_type": "code",
   "execution_count": 2,
   "id": "dfc91973-782c-4312-9550-9280228ef2d9",
   "metadata": {},
   "outputs": [],
   "source": [
    "path = \"C:\\\\Users\\\\vinee\\\\OneDrive\\\\Documents\\\\UC Classes\\\\Personal Homework\""
   ]
  },
  {
   "cell_type": "code",
   "execution_count": 4,
   "id": "e979c23e-c6dd-4fbc-bbd9-40989c954482",
   "metadata": {},
   "outputs": [
    {
     "name": "stdout",
     "output_type": "stream",
     "text": [
      "Collecting flask\n",
      "  Downloading flask-3.0.3-py3-none-any.whl.metadata (3.2 kB)\n",
      "Collecting Werkzeug>=3.0.0 (from flask)\n",
      "  Downloading werkzeug-3.0.4-py3-none-any.whl.metadata (3.7 kB)\n",
      "Requirement already satisfied: Jinja2>=3.1.2 in c:\\users\\vinee\\appdata\\local\\programs\\python\\python312\\lib\\site-packages (from flask) (3.1.4)\n",
      "Collecting itsdangerous>=2.1.2 (from flask)\n",
      "  Downloading itsdangerous-2.2.0-py3-none-any.whl.metadata (1.9 kB)\n",
      "Requirement already satisfied: click>=8.1.3 in c:\\users\\vinee\\appdata\\local\\programs\\python\\python312\\lib\\site-packages (from flask) (8.1.7)\n",
      "Collecting blinker>=1.6.2 (from flask)\n",
      "  Downloading blinker-1.8.2-py3-none-any.whl.metadata (1.6 kB)\n",
      "Requirement already satisfied: colorama in c:\\users\\vinee\\appdata\\local\\programs\\python\\python312\\lib\\site-packages (from click>=8.1.3->flask) (0.4.6)\n",
      "Requirement already satisfied: MarkupSafe>=2.0 in c:\\users\\vinee\\appdata\\local\\programs\\python\\python312\\lib\\site-packages (from Jinja2>=3.1.2->flask) (2.1.5)\n",
      "Downloading flask-3.0.3-py3-none-any.whl (101 kB)\n",
      "Downloading blinker-1.8.2-py3-none-any.whl (9.5 kB)\n",
      "Downloading itsdangerous-2.2.0-py3-none-any.whl (16 kB)\n",
      "Downloading werkzeug-3.0.4-py3-none-any.whl (227 kB)\n",
      "Installing collected packages: Werkzeug, itsdangerous, blinker, flask\n",
      "Successfully installed Werkzeug-3.0.4 blinker-1.8.2 flask-3.0.3 itsdangerous-2.2.0\n"
     ]
    }
   ],
   "source": [
    "!pip install flask"
   ]
  },
  {
   "cell_type": "code",
   "execution_count": 8,
   "id": "60e27b95-0a27-4a7c-bd94-56232b30ed4c",
   "metadata": {},
   "outputs": [
    {
     "name": "stdout",
     "output_type": "stream",
     "text": [
      "Collecting flask_restful\n",
      "  Downloading Flask_RESTful-0.3.10-py2.py3-none-any.whl.metadata (1.0 kB)\n",
      "Collecting aniso8601>=0.82 (from flask_restful)\n",
      "  Downloading aniso8601-9.0.1-py2.py3-none-any.whl.metadata (23 kB)\n",
      "Requirement already satisfied: Flask>=0.8 in c:\\users\\vinee\\appdata\\local\\programs\\python\\python312\\lib\\site-packages (from flask_restful) (3.0.3)\n",
      "Requirement already satisfied: six>=1.3.0 in c:\\users\\vinee\\appdata\\local\\programs\\python\\python312\\lib\\site-packages (from flask_restful) (1.16.0)\n",
      "Requirement already satisfied: pytz in c:\\users\\vinee\\appdata\\local\\programs\\python\\python312\\lib\\site-packages (from flask_restful) (2024.1)\n",
      "Requirement already satisfied: Werkzeug>=3.0.0 in c:\\users\\vinee\\appdata\\local\\programs\\python\\python312\\lib\\site-packages (from Flask>=0.8->flask_restful) (3.0.4)\n",
      "Requirement already satisfied: Jinja2>=3.1.2 in c:\\users\\vinee\\appdata\\local\\programs\\python\\python312\\lib\\site-packages (from Flask>=0.8->flask_restful) (3.1.4)\n",
      "Requirement already satisfied: itsdangerous>=2.1.2 in c:\\users\\vinee\\appdata\\local\\programs\\python\\python312\\lib\\site-packages (from Flask>=0.8->flask_restful) (2.2.0)\n",
      "Requirement already satisfied: click>=8.1.3 in c:\\users\\vinee\\appdata\\local\\programs\\python\\python312\\lib\\site-packages (from Flask>=0.8->flask_restful) (8.1.7)\n",
      "Requirement already satisfied: blinker>=1.6.2 in c:\\users\\vinee\\appdata\\local\\programs\\python\\python312\\lib\\site-packages (from Flask>=0.8->flask_restful) (1.8.2)\n",
      "Requirement already satisfied: colorama in c:\\users\\vinee\\appdata\\local\\programs\\python\\python312\\lib\\site-packages (from click>=8.1.3->Flask>=0.8->flask_restful) (0.4.6)\n",
      "Requirement already satisfied: MarkupSafe>=2.0 in c:\\users\\vinee\\appdata\\local\\programs\\python\\python312\\lib\\site-packages (from Jinja2>=3.1.2->Flask>=0.8->flask_restful) (2.1.5)\n",
      "Downloading Flask_RESTful-0.3.10-py2.py3-none-any.whl (26 kB)\n",
      "Downloading aniso8601-9.0.1-py2.py3-none-any.whl (52 kB)\n",
      "Installing collected packages: aniso8601, flask_restful\n",
      "Successfully installed aniso8601-9.0.1 flask_restful-0.3.10\n"
     ]
    }
   ],
   "source": [
    "!pip install flask_restful"
   ]
  },
  {
   "cell_type": "code",
   "execution_count": 10,
   "id": "bef3b9f7-02de-4d7e-9fd0-7186ac9aba91",
   "metadata": {},
   "outputs": [
    {
     "name": "stdout",
     "output_type": "stream",
     "text": [
      "Collecting flask_cors\n",
      "  Downloading Flask_Cors-5.0.0-py2.py3-none-any.whl.metadata (5.5 kB)\n",
      "Requirement already satisfied: Flask>=0.9 in c:\\users\\vinee\\appdata\\local\\programs\\python\\python312\\lib\\site-packages (from flask_cors) (3.0.3)\n",
      "Requirement already satisfied: Werkzeug>=3.0.0 in c:\\users\\vinee\\appdata\\local\\programs\\python\\python312\\lib\\site-packages (from Flask>=0.9->flask_cors) (3.0.4)\n",
      "Requirement already satisfied: Jinja2>=3.1.2 in c:\\users\\vinee\\appdata\\local\\programs\\python\\python312\\lib\\site-packages (from Flask>=0.9->flask_cors) (3.1.4)\n",
      "Requirement already satisfied: itsdangerous>=2.1.2 in c:\\users\\vinee\\appdata\\local\\programs\\python\\python312\\lib\\site-packages (from Flask>=0.9->flask_cors) (2.2.0)\n",
      "Requirement already satisfied: click>=8.1.3 in c:\\users\\vinee\\appdata\\local\\programs\\python\\python312\\lib\\site-packages (from Flask>=0.9->flask_cors) (8.1.7)\n",
      "Requirement already satisfied: blinker>=1.6.2 in c:\\users\\vinee\\appdata\\local\\programs\\python\\python312\\lib\\site-packages (from Flask>=0.9->flask_cors) (1.8.2)\n",
      "Requirement already satisfied: colorama in c:\\users\\vinee\\appdata\\local\\programs\\python\\python312\\lib\\site-packages (from click>=8.1.3->Flask>=0.9->flask_cors) (0.4.6)\n",
      "Requirement already satisfied: MarkupSafe>=2.0 in c:\\users\\vinee\\appdata\\local\\programs\\python\\python312\\lib\\site-packages (from Jinja2>=3.1.2->Flask>=0.9->flask_cors) (2.1.5)\n",
      "Downloading Flask_Cors-5.0.0-py2.py3-none-any.whl (14 kB)\n",
      "Installing collected packages: flask_cors\n",
      "Successfully installed flask_cors-5.0.0\n"
     ]
    }
   ],
   "source": [
    "!pip install flask_cors"
   ]
  },
  {
   "cell_type": "code",
   "execution_count": 14,
   "id": "d1d0da96-faf6-42ef-b9bf-ab52ae1d5dd2",
   "metadata": {},
   "outputs": [
    {
     "name": "stdout",
     "output_type": "stream",
     "text": [
      "Collecting prediction\n",
      "  Using cached prediction-0.0.3-py3-none-any.whl.metadata (624 bytes)\n",
      "Collecting dj-database-url==0.4.2 (from prediction)\n",
      "  Using cached dj_database_url-0.4.2-py2.py3-none-any.whl.metadata (2.6 kB)\n",
      "Collecting Django==2.0 (from prediction)\n",
      "  Using cached Django-2.0-py3-none-any.whl.metadata (1.3 kB)\n",
      "Collecting django-cors-headers==2.1.0 (from prediction)\n",
      "  Using cached django_cors_headers-2.1.0-py2.py3-none-any.whl.metadata (16 kB)\n",
      "Collecting django-filter==1.1.0 (from prediction)\n",
      "  Using cached django_filter-1.1.0-py2.py3-none-any.whl.metadata (3.7 kB)\n",
      "Collecting django-rest-framework==0.1.0 (from prediction)\n",
      "  Using cached django-rest-framework-0.1.0.tar.gz (969 bytes)\n",
      "  Installing build dependencies: started\n",
      "  Installing build dependencies: finished with status 'done'\n",
      "  Getting requirements to build wheel: started\n",
      "  Getting requirements to build wheel: finished with status 'done'\n",
      "  Preparing metadata (pyproject.toml): started\n",
      "  Preparing metadata (pyproject.toml): finished with status 'done'\n",
      "Collecting djangorestframework==3.7.7 (from prediction)\n",
      "  Using cached djangorestframework-3.7.7-py2.py3-none-any.whl.metadata (9.9 kB)\n",
      "Collecting djangorestframework-filters==0.10.2 (from prediction)\n",
      "  Using cached djangorestframework_filters-0.10.2-py2.py3-none-any.whl.metadata (16 kB)\n",
      "Collecting pytz==2017.3 (from prediction)\n",
      "  Using cached pytz-2017.3-py2.py3-none-any.whl.metadata (20 kB)\n",
      "Collecting uWSGI==2.0.15 (from prediction)\n",
      "  Using cached uwsgi-2.0.15.tar.gz (795 kB)\n",
      "  Installing build dependencies: started\n",
      "  Installing build dependencies: finished with status 'done'\n",
      "  Getting requirements to build wheel: started\n",
      "  Getting requirements to build wheel: finished with status 'error'\n"
     ]
    },
    {
     "name": "stderr",
     "output_type": "stream",
     "text": [
      "  error: subprocess-exited-with-error\n",
      "  \n",
      "  Getting requirements to build wheel did not run successfully.\n",
      "  exit code: 1\n",
      "  \n",
      "  [23 lines of output]\n",
      "  Traceback (most recent call last):\n",
      "    File \"C:\\Users\\vinee\\AppData\\Local\\Programs\\Python\\Python312\\Lib\\site-packages\\pip\\_vendor\\pyproject_hooks\\_in_process\\_in_process.py\", line 353, in <module>\n",
      "      main()\n",
      "    File \"C:\\Users\\vinee\\AppData\\Local\\Programs\\Python\\Python312\\Lib\\site-packages\\pip\\_vendor\\pyproject_hooks\\_in_process\\_in_process.py\", line 335, in main\n",
      "      json_out['return_val'] = hook(**hook_input['kwargs'])\n",
      "                               ^^^^^^^^^^^^^^^^^^^^^^^^^^^^\n",
      "    File \"C:\\Users\\vinee\\AppData\\Local\\Programs\\Python\\Python312\\Lib\\site-packages\\pip\\_vendor\\pyproject_hooks\\_in_process\\_in_process.py\", line 118, in get_requires_for_build_wheel\n",
      "      return hook(config_settings)\n",
      "             ^^^^^^^^^^^^^^^^^^^^^\n",
      "    File \"C:\\Users\\vinee\\AppData\\Local\\Temp\\pip-build-env-121_yfl1\\overlay\\Lib\\site-packages\\setuptools\\build_meta.py\", line 332, in get_requires_for_build_wheel\n",
      "      return self._get_build_requires(config_settings, requirements=[])\n",
      "             ^^^^^^^^^^^^^^^^^^^^^^^^^^^^^^^^^^^^^^^^^^^^^^^^^^^^^^^^^^\n",
      "    File \"C:\\Users\\vinee\\AppData\\Local\\Temp\\pip-build-env-121_yfl1\\overlay\\Lib\\site-packages\\setuptools\\build_meta.py\", line 302, in _get_build_requires\n",
      "      self.run_setup()\n",
      "    File \"C:\\Users\\vinee\\AppData\\Local\\Temp\\pip-build-env-121_yfl1\\overlay\\Lib\\site-packages\\setuptools\\build_meta.py\", line 503, in run_setup\n",
      "      super().run_setup(setup_script=setup_script)\n",
      "    File \"C:\\Users\\vinee\\AppData\\Local\\Temp\\pip-build-env-121_yfl1\\overlay\\Lib\\site-packages\\setuptools\\build_meta.py\", line 318, in run_setup\n",
      "      exec(code, locals())\n",
      "    File \"<string>\", line 3, in <module>\n",
      "    File \"C:\\Users\\vinee\\AppData\\Local\\Temp\\pip-install-2s7pnuc6\\uwsgi_6c0cc89cb374475bab1449f9debd78c8\\uwsgiconfig.py\", line 8, in <module>\n",
      "      uwsgi_os = os.uname()[0]\n",
      "                 ^^^^^^^^\n",
      "  AttributeError: module 'os' has no attribute 'uname'. Did you mean: 'name'?\n",
      "  [end of output]\n",
      "  \n",
      "  note: This error originates from a subprocess, and is likely not a problem with pip.\n",
      "error: subprocess-exited-with-error\n",
      "\n",
      "Getting requirements to build wheel did not run successfully.\n",
      "exit code: 1\n",
      "\n",
      "See above for output.\n",
      "\n",
      "note: This error originates from a subprocess, and is likely not a problem with pip.\n"
     ]
    }
   ],
   "source": [
    "!pip install prediction"
   ]
  },
  {
   "cell_type": "code",
   "execution_count": null,
   "id": "332861a1-9749-4c5c-b348-faf845f7a954",
   "metadata": {},
   "outputs": [
    {
     "name": "stdout",
     "output_type": "stream",
     "text": [
      " * Serving Flask app '__main__'\n",
      " * Debug mode: off\n"
     ]
    },
    {
     "name": "stderr",
     "output_type": "stream",
     "text": [
      "WARNING: This is a development server. Do not use it in a production deployment. Use a production WSGI server instead.\n",
      " * Running on all addresses (0.0.0.0)\n",
      " * Running on http://127.0.0.1:5000\n",
      " * Running on http://10.11.63.115:5000\n",
      "Press CTRL+C to quit\n",
      "10.11.63.115 - - [09/Sep/2024 19:55:30] \"GET / HTTP/1.1\" 200 -\n",
      "[2024-09-09 19:57:41,740] ERROR in app: Exception on /getPredictionOutput [POST]\n",
      "Traceback (most recent call last):\n",
      "  File \"C:\\Users\\vinee\\AppData\\Local\\Programs\\Python\\Python312\\Lib\\site-packages\\flask\\app.py\", line 880, in full_dispatch_request\n",
      "    rv = self.dispatch_request()\n",
      "         ^^^^^^^^^^^^^^^^^^^^^^^\n",
      "  File \"C:\\Users\\vinee\\AppData\\Local\\Programs\\Python\\Python312\\Lib\\site-packages\\flask\\app.py\", line 865, in dispatch_request\n",
      "    return self.ensure_sync(self.view_functions[rule.endpoint])(**view_args)  # type: ignore[no-any-return]\n",
      "           ^^^^^^^^^^^^^^^^^^^^^^^^^^^^^^^^^^^^^^^^^^^^^^^^^^^^^^^^^^^^^^^^^\n",
      "  File \"C:\\Users\\vinee\\AppData\\Local\\Programs\\Python\\Python312\\Lib\\site-packages\\flask_restful\\__init__.py\", line 493, in wrapper\n",
      "    return self.make_response(data, code, headers=headers)\n",
      "           ^^^^^^^^^^^^^^^^^^^^^^^^^^^^^^^^^^^^^^^^^^^^^^^\n",
      "  File \"C:\\Users\\vinee\\AppData\\Local\\Programs\\Python\\Python312\\Lib\\site-packages\\flask_restful\\__init__.py\", line 522, in make_response\n",
      "    resp = self.representations[mediatype](data, *args, **kwargs)\n",
      "           ^^^^^^^^^^^^^^^^^^^^^^^^^^^^^^^^^^^^^^^^^^^^^^^^^^^^^^\n",
      "  File \"C:\\Users\\vinee\\AppData\\Local\\Programs\\Python\\Python312\\Lib\\site-packages\\flask_restful\\representations\\json.py\", line 21, in output_json\n",
      "    dumped = dumps(data, **settings) + \"\\n\"\n",
      "             ^^^^^^^^^^^^^^^^^^^^^^^\n",
      "  File \"C:\\Users\\vinee\\AppData\\Local\\Programs\\Python\\Python312\\Lib\\json\\__init__.py\", line 231, in dumps\n",
      "    return _default_encoder.encode(obj)\n",
      "           ^^^^^^^^^^^^^^^^^^^^^^^^^^^^\n",
      "  File \"C:\\Users\\vinee\\AppData\\Local\\Programs\\Python\\Python312\\Lib\\json\\encoder.py\", line 200, in encode\n",
      "    chunks = self.iterencode(o, _one_shot=True)\n",
      "             ^^^^^^^^^^^^^^^^^^^^^^^^^^^^^^^^^^\n",
      "  File \"C:\\Users\\vinee\\AppData\\Local\\Programs\\Python\\Python312\\Lib\\json\\encoder.py\", line 258, in iterencode\n",
      "    return _iterencode(o, 0)\n",
      "           ^^^^^^^^^^^^^^^^^\n",
      "  File \"C:\\Users\\vinee\\AppData\\Local\\Programs\\Python\\Python312\\Lib\\json\\encoder.py\", line 180, in default\n",
      "    raise TypeError(f'Object of type {o.__class__.__name__} '\n",
      "TypeError: Object of type BadRequest is not JSON serializable\n",
      "10.11.63.115 - - [09/Sep/2024 19:57:41] \"POST /getPredictionOutput HTTP/1.1\" 500 -\n",
      "10.11.63.115 - - [09/Sep/2024 19:58:44] \"GET / HTTP/1.1\" 200 -\n",
      "10.11.63.115 - - [09/Sep/2024 19:59:02] \"POST /GetPredictionoutcome HTTP/1.1\" 404 -\n"
     ]
    }
   ],
   "source": [
    "from flask import Flask, request, redirect\n",
    "from flask_restful import Resource, Api\n",
    "from flask_cors import CORS\n",
    "import os\n",
    "\n",
    "app = Flask(__name__)\n",
    "cors = CORS(app, resources={r\"*\": {\"origins\": \"*\"}})\n",
    "api = Api(app)\n",
    "\n",
    "class Test(Resource):\n",
    "    def get(self):\n",
    "        return 'Welcome to, Test App API!'\n",
    "\n",
    "    def post(self):\n",
    "        try:\n",
    "            value = request.get_json()\n",
    "            if(value):\n",
    "                return {'Post Values': value}, 201\n",
    "\n",
    "            return {\"error\":\"Invalid format.\"}\n",
    "\n",
    "        except Exception as error:\n",
    "            return {'error': error}\n",
    "\n",
    "class GetPredictionOutput(Resource):\n",
    "    def get(self):\n",
    "        return {\"error\":\"Invalid Method.\"}\n",
    "\n",
    "    def post(self):\n",
    "        try:\n",
    "            data = request.get_json()\n",
    "            predict = prediction.predict_mpg(data)\n",
    "            predictOutput = predict\n",
    "            return {'predict':predictOutput}\n",
    "\n",
    "        except Exception as error:\n",
    "            return {'error': error}\n",
    "\n",
    "api.add_resource(Test,'/')\n",
    "api.add_resource(GetPredictionOutput,'/getPredictionOutput')\n",
    "\n",
    "if __name__ == \"__main__\":\n",
    "    port = int(os.environ.get(\"PORT\", 5000))\n",
    "    app.run(host='0.0.0.0', port=port)"
   ]
  }
 ],
 "metadata": {
  "kernelspec": {
   "display_name": "Python 3 (ipykernel)",
   "language": "python",
   "name": "python3"
  },
  "language_info": {
   "codemirror_mode": {
    "name": "ipython",
    "version": 3
   },
   "file_extension": ".py",
   "mimetype": "text/x-python",
   "name": "python",
   "nbconvert_exporter": "python",
   "pygments_lexer": "ipython3",
   "version": "3.12.5"
  }
 },
 "nbformat": 4,
 "nbformat_minor": 5
}
